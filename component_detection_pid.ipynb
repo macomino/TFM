{
 "cells": [
  {
   "cell_type": "markdown",
   "metadata": {},
   "source": [
    "# Deteccion de componentes en diagramas PID"
   ]
  },
  {
   "cell_type": "markdown",
   "metadata": {},
   "source": [
    "### Importaciones"
   ]
  },
  {
   "cell_type": "code",
   "execution_count": 1,
   "metadata": {},
   "outputs": [],
   "source": [
    "import os\n",
    "from matplotlib import pyplot as plt\n",
    "from PIL import Image\n",
    "%matplotlib inline"
   ]
  },
  {
   "cell_type": "markdown",
   "metadata": {},
   "source": [
    "### Definicion de paths"
   ]
  },
  {
   "cell_type": "code",
   "execution_count": 2,
   "metadata": {},
   "outputs": [],
   "source": [
    "outputPath = 'out'\n",
    "imagesInputPath = os.path.join('..', 'PatternImages')\n",
    "outputTrainingPath = os.path.join(outputPath, 'train')\n",
    "outputTestPath = os.path.join(outputPath, 'test')"
   ]
  },
  {
   "cell_type": "markdown",
   "metadata": {},
   "source": [
    "### Generacion del dataset de training y de test"
   ]
  },
  {
   "cell_type": "code",
   "execution_count": 5,
   "metadata": {},
   "outputs": [
    {
     "name": "stdout",
     "output_type": "stream",
     "text": [
      "[Errno 2] No such file or directory: 'DatasetCreator'\n",
      "/u01/notebooks/TFM/DatasetCreator\n"
     ]
    }
   ],
   "source": [
    "cd DatasetCreator"
   ]
  },
  {
   "cell_type": "code",
   "execution_count": 6,
   "metadata": {},
   "outputs": [],
   "source": [
    "from datasetCreate import DatasetCreate"
   ]
  },
  {
   "cell_type": "code",
   "execution_count": 7,
   "metadata": {},
   "outputs": [],
   "source": [
    "trainingImagesNumber = 200\n",
    "testImagesNumber = 50\n",
    "dc = DatasetCreate(imagesInputPath, outputPath)"
   ]
  },
  {
   "cell_type": "code",
   "execution_count": 8,
   "metadata": {},
   "outputs": [
    {
     "name": "stdout",
     "output_type": "stream",
     "text": [
      "Diagram size: Cell size: 104 numCells: 12,12\n",
      "Diagram size: Cell size: 82 numCells: 17,11\n",
      "Diagram size: Cell size: 133 numCells: 11,10\n",
      "Diagram size: Cell size: 138 numCells: 8,12\n",
      "Diagram size: Cell size: 100 numCells: 19,15\n",
      "Diagram size: Cell size: 125 numCells: 28,25\n",
      "Diagram size: Cell size: 81 numCells: 21,20\n",
      "Diagram size: Cell size: 129 numCells: 25,19\n",
      "Diagram size: Cell size: 87 numCells: 15,29\n",
      "Diagram size: Cell size: 71 numCells: 6,9\n",
      "Diagram size: Cell size: 118 numCells: 16,9\n",
      "Diagram size: Cell size: 149 numCells: 14,11\n",
      "Diagram size: Cell size: 139 numCells: 30,9\n",
      "Diagram size: Cell size: 109 numCells: 13,16\n",
      "Diagram size: Cell size: 134 numCells: 26,23\n",
      "Diagram size: Cell size: 100 numCells: 16,18\n",
      "Diagram size: Cell size: 135 numCells: 10,25\n",
      "Diagram size: Cell size: 135 numCells: 24,30\n",
      "Diagram size: Cell size: 134 numCells: 23,8\n",
      "Diagram size: Cell size: 146 numCells: 17,5\n",
      "Diagram size: Cell size: 144 numCells: 30,8\n",
      "Diagram size: Cell size: 149 numCells: 14,27\n",
      "Diagram size: Cell size: 145 numCells: 26,8\n",
      "Diagram size: Cell size: 123 numCells: 14,7\n",
      "Diagram size: Cell size: 132 numCells: 29,6\n",
      "Diagram size: Cell size: 81 numCells: 28,24\n",
      "Diagram size: Cell size: 107 numCells: 21,17\n",
      "Diagram size: Cell size: 73 numCells: 27,12\n",
      "Diagram size: Cell size: 96 numCells: 20,7\n",
      "Diagram size: Cell size: 109 numCells: 5,8\n",
      "Diagram size: Cell size: 113 numCells: 23,21\n",
      "Diagram size: Cell size: 70 numCells: 29,16\n",
      "Diagram size: Cell size: 129 numCells: 7,7\n",
      "Diagram size: Cell size: 95 numCells: 14,27\n",
      "Diagram size: Cell size: 146 numCells: 28,25\n",
      "Diagram size: Cell size: 100 numCells: 27,28\n",
      "Diagram size: Cell size: 123 numCells: 27,12\n",
      "Diagram size: Cell size: 105 numCells: 6,5\n",
      "Diagram size: Cell size: 98 numCells: 29,9\n",
      "Diagram size: Cell size: 112 numCells: 7,20\n",
      "Diagram size: Cell size: 108 numCells: 23,12\n",
      "Diagram size: Cell size: 79 numCells: 20,18\n",
      "Diagram size: Cell size: 71 numCells: 15,8\n",
      "Diagram size: Cell size: 145 numCells: 22,12\n",
      "Diagram size: Cell size: 76 numCells: 13,25\n",
      "Diagram size: Cell size: 80 numCells: 28,25\n",
      "Diagram size: Cell size: 72 numCells: 10,8\n",
      "Diagram size: Cell size: 112 numCells: 25,25\n",
      "Diagram size: Cell size: 77 numCells: 5,26\n",
      "Diagram size: Cell size: 81 numCells: 21,15\n",
      "Diagram size: Cell size: 90 numCells: 10,9\n",
      "Diagram size: Cell size: 93 numCells: 10,7\n",
      "Diagram size: Cell size: 101 numCells: 18,18\n",
      "Diagram size: Cell size: 131 numCells: 14,19\n",
      "Diagram size: Cell size: 96 numCells: 16,26\n",
      "Diagram size: Cell size: 79 numCells: 28,8\n",
      "Diagram size: Cell size: 80 numCells: 18,14\n",
      "Diagram size: Cell size: 130 numCells: 12,15\n",
      "Diagram size: Cell size: 75 numCells: 26,6\n",
      "Diagram size: Cell size: 101 numCells: 13,19\n",
      "Diagram size: Cell size: 94 numCells: 13,11\n",
      "Diagram size: Cell size: 91 numCells: 27,22\n",
      "Diagram size: Cell size: 149 numCells: 7,5\n",
      "Diagram size: Cell size: 107 numCells: 24,20\n",
      "Diagram size: Cell size: 104 numCells: 30,14\n",
      "Diagram size: Cell size: 120 numCells: 24,7\n",
      "Diagram size: Cell size: 149 numCells: 28,30\n",
      "Diagram size: Cell size: 132 numCells: 17,24\n",
      "Diagram size: Cell size: 145 numCells: 5,15\n",
      "Diagram size: Cell size: 150 numCells: 25,25\n",
      "Diagram size: Cell size: 104 numCells: 22,23\n",
      "Diagram size: Cell size: 135 numCells: 27,8\n",
      "Diagram size: Cell size: 107 numCells: 18,29\n",
      "Diagram size: Cell size: 77 numCells: 14,10\n",
      "Diagram size: Cell size: 131 numCells: 22,6\n",
      "Diagram size: Cell size: 141 numCells: 9,14\n",
      "Diagram size: Cell size: 115 numCells: 17,19\n",
      "Diagram size: Cell size: 136 numCells: 26,14\n",
      "Diagram size: Cell size: 81 numCells: 28,26\n",
      "Diagram size: Cell size: 84 numCells: 7,29\n",
      "Diagram size: Cell size: 113 numCells: 9,20\n",
      "Diagram size: Cell size: 120 numCells: 25,20\n",
      "Diagram size: Cell size: 74 numCells: 27,10\n",
      "Diagram size: Cell size: 93 numCells: 23,13\n",
      "Diagram size: Cell size: 86 numCells: 19,6\n",
      "Diagram size: Cell size: 84 numCells: 9,9\n",
      "Diagram size: Cell size: 117 numCells: 9,22\n",
      "Diagram size: Cell size: 82 numCells: 14,17\n",
      "Diagram size: Cell size: 83 numCells: 29,25\n",
      "Diagram size: Cell size: 137 numCells: 16,17\n",
      "Diagram size: Cell size: 145 numCells: 16,25\n",
      "Diagram size: Cell size: 110 numCells: 11,28\n",
      "Diagram size: Cell size: 72 numCells: 16,21\n",
      "Diagram size: Cell size: 86 numCells: 11,14\n",
      "Diagram size: Cell size: 92 numCells: 20,20\n",
      "Diagram size: Cell size: 83 numCells: 7,9\n",
      "Diagram size: Cell size: 118 numCells: 18,20\n",
      "Diagram size: Cell size: 149 numCells: 9,6\n",
      "Diagram size: Cell size: 126 numCells: 30,10\n",
      "Diagram size: Cell size: 93 numCells: 28,26\n",
      "Diagram size: Cell size: 102 numCells: 8,29\n",
      "Diagram size: Cell size: 101 numCells: 15,9\n",
      "Diagram size: Cell size: 141 numCells: 25,27\n",
      "Diagram size: Cell size: 81 numCells: 6,23\n",
      "Diagram size: Cell size: 137 numCells: 25,24\n",
      "Diagram size: Cell size: 127 numCells: 12,15\n",
      "Diagram size: Cell size: 76 numCells: 21,17\n",
      "Diagram size: Cell size: 137 numCells: 22,15\n",
      "Diagram size: Cell size: 101 numCells: 13,24\n",
      "Diagram size: Cell size: 114 numCells: 11,13\n",
      "Diagram size: Cell size: 118 numCells: 5,24\n",
      "Diagram size: Cell size: 130 numCells: 20,11\n",
      "Diagram size: Cell size: 129 numCells: 7,18\n",
      "Diagram size: Cell size: 84 numCells: 7,17\n",
      "Diagram size: Cell size: 148 numCells: 24,14\n",
      "Diagram size: Cell size: 140 numCells: 17,21\n",
      "Diagram size: Cell size: 86 numCells: 18,13\n",
      "Diagram size: Cell size: 122 numCells: 15,23\n",
      "Diagram size: Cell size: 116 numCells: 13,5\n",
      "Diagram size: Cell size: 103 numCells: 22,30\n",
      "Diagram size: Cell size: 126 numCells: 14,19\n",
      "Diagram size: Cell size: 73 numCells: 6,18\n",
      "Diagram size: Cell size: 70 numCells: 27,8\n",
      "Diagram size: Cell size: 73 numCells: 12,25\n",
      "Diagram size: Cell size: 70 numCells: 19,14\n",
      "Diagram size: Cell size: 103 numCells: 25,5\n",
      "Diagram size: Cell size: 76 numCells: 6,20\n",
      "Diagram size: Cell size: 72 numCells: 8,11\n",
      "Diagram size: Cell size: 97 numCells: 14,21\n",
      "Diagram size: Cell size: 128 numCells: 10,28\n",
      "Diagram size: Cell size: 78 numCells: 8,16\n",
      "Diagram size: Cell size: 108 numCells: 8,30\n",
      "Diagram size: Cell size: 98 numCells: 8,29\n",
      "Diagram size: Cell size: 73 numCells: 19,30\n",
      "Diagram size: Cell size: 98 numCells: 25,29\n",
      "Diagram size: Cell size: 108 numCells: 14,14\n",
      "Diagram size: Cell size: 113 numCells: 21,9\n",
      "Diagram size: Cell size: 132 numCells: 16,26\n",
      "Diagram size: Cell size: 74 numCells: 17,22\n",
      "Diagram size: Cell size: 137 numCells: 13,26\n",
      "Diagram size: Cell size: 114 numCells: 9,13\n",
      "Diagram size: Cell size: 75 numCells: 26,21\n",
      "Diagram size: Cell size: 124 numCells: 16,30\n",
      "Diagram size: Cell size: 145 numCells: 13,13\n",
      "Diagram size: Cell size: 74 numCells: 7,20\n",
      "Diagram size: Cell size: 141 numCells: 8,22\n",
      "Diagram size: Cell size: 96 numCells: 23,13\n",
      "Diagram size: Cell size: 125 numCells: 7,24\n",
      "Diagram size: Cell size: 125 numCells: 14,15\n",
      "Diagram size: Cell size: 87 numCells: 14,17\n",
      "Diagram size: Cell size: 150 numCells: 6,30\n",
      "Diagram size: Cell size: 125 numCells: 11,16\n",
      "Diagram size: Cell size: 74 numCells: 29,18\n",
      "Diagram size: Cell size: 120 numCells: 14,6\n",
      "Diagram size: Cell size: 103 numCells: 13,27\n",
      "Diagram size: Cell size: 79 numCells: 28,10\n",
      "Diagram size: Cell size: 93 numCells: 23,9\n",
      "Diagram size: Cell size: 98 numCells: 22,6\n",
      "Diagram size: Cell size: 97 numCells: 29,28\n",
      "Diagram size: Cell size: 79 numCells: 15,11\n",
      "Diagram size: Cell size: 127 numCells: 20,17\n",
      "Diagram size: Cell size: 135 numCells: 27,7\n",
      "Diagram size: Cell size: 95 numCells: 10,16\n",
      "Diagram size: Cell size: 80 numCells: 21,5\n",
      "Diagram size: Cell size: 109 numCells: 27,27\n",
      "Diagram size: Cell size: 110 numCells: 11,29\n",
      "Diagram size: Cell size: 144 numCells: 28,16\n",
      "Diagram size: Cell size: 114 numCells: 8,15\n",
      "Diagram size: Cell size: 132 numCells: 7,20\n",
      "Diagram size: Cell size: 88 numCells: 26,16\n",
      "Diagram size: Cell size: 88 numCells: 14,26\n",
      "Diagram size: Cell size: 119 numCells: 6,23\n",
      "Diagram size: Cell size: 111 numCells: 14,26\n",
      "Diagram size: Cell size: 71 numCells: 5,9\n",
      "Diagram size: Cell size: 88 numCells: 30,28\n",
      "Diagram size: Cell size: 117 numCells: 5,17\n",
      "Diagram size: Cell size: 90 numCells: 6,10\n",
      "Diagram size: Cell size: 125 numCells: 26,5\n",
      "Diagram size: Cell size: 94 numCells: 27,9\n",
      "Diagram size: Cell size: 94 numCells: 5,22\n",
      "Diagram size: Cell size: 121 numCells: 16,28\n",
      "Diagram size: Cell size: 112 numCells: 24,30\n",
      "Diagram size: Cell size: 120 numCells: 15,26\n",
      "Diagram size: Cell size: 71 numCells: 28,18\n",
      "Diagram size: Cell size: 106 numCells: 13,18\n",
      "Diagram size: Cell size: 118 numCells: 19,6\n",
      "Diagram size: Cell size: 127 numCells: 10,14\n"
     ]
    },
    {
     "name": "stdout",
     "output_type": "stream",
     "text": [
      "Diagram size: Cell size: 116 numCells: 30,30\n",
      "Diagram size: Cell size: 145 numCells: 26,6\n",
      "Diagram size: Cell size: 126 numCells: 30,22\n",
      "Diagram size: Cell size: 110 numCells: 26,10\n",
      "Diagram size: Cell size: 135 numCells: 20,8\n",
      "Diagram size: Cell size: 147 numCells: 18,20\n",
      "Diagram size: Cell size: 140 numCells: 16,28\n",
      "Diagram size: Cell size: 88 numCells: 28,24\n",
      "Diagram size: Cell size: 143 numCells: 20,12\n",
      "Diagram size: Cell size: 131 numCells: 27,14\n",
      "Diagram size: Cell size: 128 numCells: 17,24\n",
      "Diagram size: Cell size: 128 numCells: 8,12\n",
      "Diagram size: Cell size: 102 numCells: 17,25\n",
      "Successfully created the TFRecords: /u01/notebooks/TFM/DatasetCreator/out/train.record\n"
     ]
    }
   ],
   "source": [
    "dc.generateDataset(trainingImagesNumber, outputTrainingPath, os.path.join(outputPath, 'train.record'))"
   ]
  },
  {
   "cell_type": "code",
   "execution_count": 9,
   "metadata": {},
   "outputs": [
    {
     "name": "stdout",
     "output_type": "stream",
     "text": [
      "Diagram size: Cell size: 124 numCells: 30,22\n",
      "Diagram size: Cell size: 127 numCells: 7,26\n",
      "Diagram size: Cell size: 99 numCells: 9,14\n",
      "Diagram size: Cell size: 76 numCells: 26,10\n",
      "Diagram size: Cell size: 86 numCells: 22,15\n",
      "Diagram size: Cell size: 100 numCells: 18,28\n",
      "Diagram size: Cell size: 88 numCells: 5,24\n",
      "Diagram size: Cell size: 80 numCells: 21,14\n",
      "Diagram size: Cell size: 85 numCells: 28,19\n",
      "Diagram size: Cell size: 150 numCells: 7,9\n",
      "Diagram size: Cell size: 78 numCells: 28,16\n",
      "Diagram size: Cell size: 105 numCells: 18,27\n",
      "Diagram size: Cell size: 108 numCells: 21,14\n",
      "Diagram size: Cell size: 143 numCells: 29,8\n",
      "Diagram size: Cell size: 78 numCells: 16,22\n",
      "Diagram size: Cell size: 78 numCells: 8,20\n",
      "Diagram size: Cell size: 149 numCells: 14,21\n",
      "Diagram size: Cell size: 84 numCells: 7,8\n",
      "Diagram size: Cell size: 139 numCells: 27,9\n",
      "Diagram size: Cell size: 111 numCells: 22,27\n",
      "Diagram size: Cell size: 131 numCells: 24,27\n",
      "Diagram size: Cell size: 134 numCells: 21,17\n",
      "Diagram size: Cell size: 122 numCells: 20,22\n",
      "Diagram size: Cell size: 71 numCells: 8,18\n",
      "Diagram size: Cell size: 110 numCells: 5,16\n",
      "Diagram size: Cell size: 74 numCells: 7,27\n",
      "Diagram size: Cell size: 136 numCells: 15,30\n",
      "Diagram size: Cell size: 75 numCells: 20,23\n",
      "Diagram size: Cell size: 127 numCells: 13,9\n",
      "Diagram size: Cell size: 116 numCells: 9,25\n",
      "Diagram size: Cell size: 90 numCells: 20,30\n",
      "Diagram size: Cell size: 80 numCells: 7,13\n",
      "Diagram size: Cell size: 73 numCells: 20,20\n",
      "Diagram size: Cell size: 91 numCells: 7,30\n",
      "Diagram size: Cell size: 137 numCells: 23,13\n",
      "Diagram size: Cell size: 95 numCells: 12,12\n",
      "Diagram size: Cell size: 100 numCells: 25,29\n",
      "Diagram size: Cell size: 92 numCells: 13,12\n",
      "Diagram size: Cell size: 110 numCells: 22,21\n",
      "Diagram size: Cell size: 118 numCells: 15,7\n",
      "Diagram size: Cell size: 91 numCells: 8,17\n",
      "Diagram size: Cell size: 141 numCells: 27,6\n",
      "Diagram size: Cell size: 78 numCells: 5,16\n",
      "Diagram size: Cell size: 107 numCells: 9,24\n",
      "Diagram size: Cell size: 123 numCells: 15,9\n",
      "Diagram size: Cell size: 78 numCells: 22,23\n",
      "Diagram size: Cell size: 125 numCells: 28,28\n",
      "Diagram size: Cell size: 132 numCells: 27,10\n",
      "Diagram size: Cell size: 76 numCells: 12,10\n",
      "Diagram size: Cell size: 83 numCells: 19,21\n",
      "Successfully created the TFRecords: /u01/notebooks/TFM/DatasetCreator/out/test.record\n"
     ]
    }
   ],
   "source": [
    "dc.generateDataset(testImagesNumber, outputTestPath, os.path.join(outputPath, 'test.record'))"
   ]
  },
  {
   "cell_type": "code",
   "execution_count": 10,
   "metadata": {},
   "outputs": [
    {
     "data": {
      "text/plain": [
       "<matplotlib.image.AxesImage at 0x7fa92cf2f898>"
      ]
     },
     "execution_count": 10,
     "metadata": {},
     "output_type": "execute_result"
    },
    {
     "data": {
      "image/png": "[encoded data removed]",
      "text/plain": [
       "<Figure size 432x288 with 1 Axes>"
      ]
     },
     "metadata": {
      "needs_background": "light"
     },
     "output_type": "display_data"
    }
   ],
   "source": [
    "image = Image.open('out/train/diagram1.jpg')\n",
    "plt.imshow(image)"
   ]
  },
  {
   "cell_type": "code",
   "execution_count": 16,
   "metadata": {},
   "outputs": [
    {
     "name": "stdout",
     "output_type": "stream",
     "text": [
      "/u01/notebooks/models/research\n"
     ]
    }
   ],
   "source": [
    "cd /u01/notebooks/models/research/"
   ]
  },
  {
   "cell_type": "code",
   "execution_count": 17,
   "metadata": {},
   "outputs": [
    {
     "name": "stdout",
     "output_type": "stream",
     "text": [
      "/u01/notebooks/models/research/object_detection/utils/visualization_utils.py:26: UserWarning: \n",
      "This call to matplotlib.use() has no effect because the backend has already\n",
      "been chosen; matplotlib.use() must be called *before* pylab, matplotlib.pyplot,\n",
      "or matplotlib.backends is imported for the first time.\n",
      "\n",
      "The backend was *originally* set to 'module://ipykernel.pylab.backend_inline' by the following code:\n",
      "  File \"object_detection/model_main.py\", line 26, in <module>\n",
      "    from object_detection import model_lib\n",
      "  File \"/u01/notebooks/models/research/object_detection/model_lib.py\", line 27, in <module>\n",
      "    from object_detection import eval_util\n",
      "  File \"/u01/notebooks/models/research/object_detection/eval_util.py\", line 28, in <module>\n",
      "    from object_detection.metrics import coco_evaluation\n",
      "  File \"/u01/notebooks/models/research/object_detection/metrics/coco_evaluation.py\", line 20, in <module>\n",
      "    from object_detection.metrics import coco_tools\n",
      "  File \"/u01/notebooks/models/research/object_detection/metrics/coco_tools.py\", line 47, in <module>\n",
      "    from pycocotools import coco\n",
      "  File \"/u01/notebooks/models/research/pycocotools/coco.py\", line 49, in <module>\n",
      "    import matplotlib.pyplot as plt\n",
      "  File \"/root/anaconda3/lib/python3.7/site-packages/matplotlib/pyplot.py\", line 71, in <module>\n",
      "    from matplotlib.backends import pylab_setup\n",
      "  File \"/root/anaconda3/lib/python3.7/site-packages/matplotlib/backends/__init__.py\", line 16, in <module>\n",
      "    line for line in traceback.format_stack()\n",
      "\n",
      "\n",
      "  import matplotlib; matplotlib.use('Agg')  # pylint: disable=multiple-statements\n",
      "\n",
      "WARNING: The TensorFlow contrib module will not be included in TensorFlow 2.0.\n",
      "For more information, please see:\n",
      "  * https://github.com/tensorflow/community/blob/master/rfcs/20180907-contrib-sunset.md\n",
      "  * https://github.com/tensorflow/addons\n",
      "If you depend on functionality not listed there, please file an issue.\n",
      "\n",
      "WARNING:tensorflow:Forced number of epochs for all eval validations to be 1.\n",
      "WARNING:tensorflow:Expected number of evaluation epochs is 1, but instead encountered `eval_on_train_input_config.num_epochs` = 0. Overwriting `num_epochs` to 1.\n",
      "WARNING:tensorflow:Estimator's model_fn (<function create_model_fn.<locals>.model_fn at 0x7fcde92548c8>) includes params argument, but params are not passed to Estimator.\n",
      "WARNING:tensorflow:From /root/anaconda3/lib/python3.7/site-packages/tensorflow/python/framework/op_def_library.py:263: colocate_with (from tensorflow.python.framework.ops) is deprecated and will be removed in a future version.\n",
      "Instructions for updating:\n",
      "Colocations handled automatically by placer.\n",
      "Traceback (most recent call last):\n",
      "  File \"object_detection/model_main.py\", line 109, in <module>\n",
      "    tf.app.run()\n",
      "  File \"/root/anaconda3/lib/python3.7/site-packages/tensorflow/python/platform/app.py\", line 125, in run\n",
      "    _sys.exit(main(argv))\n",
      "  File \"object_detection/model_main.py\", line 105, in main\n",
      "    tf.estimator.train_and_evaluate(estimator, train_spec, eval_specs[0])\n",
      "  File \"/root/anaconda3/lib/python3.7/site-packages/tensorflow_estimator/python/estimator/training.py\", line 471, in train_and_evaluate\n",
      "    return executor.run()\n",
      "  File \"/root/anaconda3/lib/python3.7/site-packages/tensorflow_estimator/python/estimator/training.py\", line 611, in run\n",
      "    return self.run_local()\n",
      "  File \"/root/anaconda3/lib/python3.7/site-packages/tensorflow_estimator/python/estimator/training.py\", line 712, in run_local\n",
      "    saving_listeners=saving_listeners)\n",
      "  File \"/root/anaconda3/lib/python3.7/site-packages/tensorflow_estimator/python/estimator/estimator.py\", line 358, in train\n",
      "    loss = self._train_model(input_fn, hooks, saving_listeners)\n",
      "  File \"/root/anaconda3/lib/python3.7/site-packages/tensorflow_estimator/python/estimator/estimator.py\", line 1124, in _train_model\n",
      "    return self._train_model_default(input_fn, hooks, saving_listeners)\n",
      "  File \"/root/anaconda3/lib/python3.7/site-packages/tensorflow_estimator/python/estimator/estimator.py\", line 1151, in _train_model_default\n",
      "    input_fn, model_fn_lib.ModeKeys.TRAIN))\n",
      "  File \"/root/anaconda3/lib/python3.7/site-packages/tensorflow_estimator/python/estimator/estimator.py\", line 992, in _get_features_and_labels_from_input_fn\n",
      "    self._call_input_fn(input_fn, mode))\n",
      "  File \"/root/anaconda3/lib/python3.7/site-packages/tensorflow_estimator/python/estimator/estimator.py\", line 1079, in _call_input_fn\n",
      "    return input_fn(**kwargs)\n",
      "  File \"/u01/notebooks/models/research/object_detection/inputs.py\", line 525, in _train_input_fn\n",
      "    batch_size=params['batch_size'] if params else train_config.batch_size)\n",
      "  File \"/u01/notebooks/models/research/object_detection/builders/dataset_builder.py\", line 124, in build\n",
      "    num_additional_channels=input_reader_config.num_additional_channels)\n",
      "  File \"/u01/notebooks/models/research/object_detection/data_decoders/tf_example_decoder.py\", line 307, in __init__\n",
      "    default_value=''),\n",
      "  File \"/u01/notebooks/models/research/object_detection/data_decoders/tf_example_decoder.py\", line 59, in __init__\n",
      "    label_map_proto_file, use_display_name=False)\n",
      "  File \"/u01/notebooks/models/research/object_detection/utils/label_map_util.py\", line 164, in get_label_map_dict\n",
      "    label_map = load_labelmap(label_map_path)\n",
      "  File \"/u01/notebooks/models/research/object_detection/utils/label_map_util.py\", line 133, in load_labelmap\n",
      "    label_map_string = fid.read()\n",
      "  File \"/root/anaconda3/lib/python3.7/site-packages/tensorflow/python/lib/io/file_io.py\", line 125, in read\n",
      "    self._preread_check()\n",
      "  File \"/root/anaconda3/lib/python3.7/site-packages/tensorflow/python/lib/io/file_io.py\", line 85, in _preread_check\n",
      "    compat.as_bytes(self.__name), 1024 * 512, status)\n",
      "  File \"/root/anaconda3/lib/python3.7/site-packages/tensorflow/python/framework/errors_impl.py\", line 528, in __exit__\n",
      "    c_api.TF_GetCode(self.status.status))\n",
      "tensorflow.python.framework.errors_impl.NotFoundError: C:/Users/barde/Documents/TFM/Codigo/Configs/label_map.pbtxt; No such file or directory\n"
     ]
    }
   ],
   "source": [
    "!python object_detection/model_main.py  \\\n",
    "--pipeline_config_path=/u01/notebooks/TFM/Configs/rfcn_resnet101_win.config  --model_dir=/u01/notebooks \\\n",
    "--num_train_steps=10000  \\\n",
    "--num_eval_steps=500   \\\n",
    "--alsologtostderr"
   ]
  },
  {
   "cell_type": "code",
   "execution_count": 23,
   "metadata": {},
   "outputs": [],
   "source": [
    "!pip install git+https://github.com/waleedka/cocoapi.git#egg=pycocotools&subdirectory=PythonAPI"
   ]
  },
  {
   "cell_type": "code",
   "execution_count": 25,
   "metadata": {},
   "outputs": [
    {
     "name": "stdout",
     "output_type": "stream",
     "text": [
      "Collecting scikit-image\n",
      "\u001b[?25l  Downloading https://files.pythonhosted.org/packages/2e/21/ea56c8bb2e8112837dd71aebeb2ac67913e784911c0d7f493a593fa1a207/scikit_image-0.15.0-cp37-cp37m-manylinux1_x86_64.whl (26.3MB)\n",
      "\u001b[K    100% |████████████████████████████████| 26.3MB 2.7MB/s eta 0:00:01\n",
      "\u001b[?25hRequirement already satisfied, skipping upgrade: pillow>=4.3.0 in /root/anaconda3/lib/python3.7/site-packages (from scikit-image) (5.4.1)\n",
      "Requirement already satisfied, skipping upgrade: matplotlib!=3.0.0,>=2.0.0 in /root/anaconda3/lib/python3.7/site-packages (from scikit-image) (2.2.2)\n",
      "Requirement already satisfied, skipping upgrade: imageio>=2.0.1 in /root/anaconda3/lib/python3.7/site-packages (from scikit-image) (2.5.0)\n",
      "Requirement already satisfied, skipping upgrade: networkx>=2.0 in /root/anaconda3/lib/python3.7/site-packages (from scikit-image) (2.2)\n",
      "Requirement already satisfied, skipping upgrade: scipy>=0.17.0 in /root/anaconda3/lib/python3.7/site-packages (from scikit-image) (1.2.1)\n",
      "Requirement already satisfied, skipping upgrade: PyWavelets>=0.4.0 in /root/anaconda3/lib/python3.7/site-packages (from scikit-image) (1.0.2)\n",
      "Requirement already satisfied, skipping upgrade: numpy>=1.7.1 in /root/anaconda3/lib/python3.7/site-packages (from matplotlib!=3.0.0,>=2.0.0->scikit-image) (1.16.2)\n",
      "Requirement already satisfied, skipping upgrade: cycler>=0.10 in /root/anaconda3/lib/python3.7/site-packages (from matplotlib!=3.0.0,>=2.0.0->scikit-image) (0.10.0)\n",
      "Requirement already satisfied, skipping upgrade: pyparsing!=2.0.4,!=2.1.2,!=2.1.6,>=2.0.1 in /root/anaconda3/lib/python3.7/site-packages (from matplotlib!=3.0.0,>=2.0.0->scikit-image) (2.3.1)\n",
      "Requirement already satisfied, skipping upgrade: python-dateutil>=2.1 in /root/anaconda3/lib/python3.7/site-packages (from matplotlib!=3.0.0,>=2.0.0->scikit-image) (2.8.0)\n",
      "Requirement already satisfied, skipping upgrade: pytz in /root/anaconda3/lib/python3.7/site-packages (from matplotlib!=3.0.0,>=2.0.0->scikit-image) (2018.9)\n",
      "Requirement already satisfied, skipping upgrade: six>=1.10 in /root/anaconda3/lib/python3.7/site-packages (from matplotlib!=3.0.0,>=2.0.0->scikit-image) (1.12.0)\n",
      "Requirement already satisfied, skipping upgrade: kiwisolver>=1.0.1 in /root/anaconda3/lib/python3.7/site-packages (from matplotlib!=3.0.0,>=2.0.0->scikit-image) (1.0.1)\n",
      "Requirement already satisfied, skipping upgrade: decorator>=4.3.0 in /root/anaconda3/lib/python3.7/site-packages (from networkx>=2.0->scikit-image) (4.4.0)\n",
      "Requirement already satisfied, skipping upgrade: setuptools in /root/anaconda3/lib/python3.7/site-packages (from kiwisolver>=1.0.1->matplotlib!=3.0.0,>=2.0.0->scikit-image) (40.8.0)\n",
      "Installing collected packages: scikit-image\n",
      "  Found existing installation: scikit-image 0.14.2\n",
      "    Uninstalling scikit-image-0.14.2:\n",
      "      Successfully uninstalled scikit-image-0.14.2\n",
      "Successfully installed scikit-image-0.15.0\n",
      "Collecting cython\n",
      "\u001b[?25l  Downloading https://files.pythonhosted.org/packages/3e/ac/40ecc487c0ccb0cc9510f5f380a6af28af85fc770bca37cef398bb5f018f/Cython-0.29.7-cp37-cp37m-manylinux1_x86_64.whl (2.1MB)\n",
      "\u001b[K    100% |████████████████████████████████| 2.1MB 16.4MB/s ta 0:00:01\n",
      "\u001b[?25hInstalling collected packages: cython\n",
      "  Found existing installation: Cython 0.29.6\n",
      "    Uninstalling Cython-0.29.6:\n",
      "      Successfully uninstalled Cython-0.29.6\n",
      "Successfully installed cython-0.29.7\n",
      "Collecting pycocotools from git+https://github.com/philferriere/cocoapi.git#egg=pycocotools&subdirectory=PythonAPI\n",
      "  Cloning https://github.com/philferriere/cocoapi.git to /tmp/pip-install-oa76ehg7/pycocotools\n",
      "Building wheels for collected packages: pycocotools\n",
      "  Building wheel for pycocotools (setup.py) ... \u001b[?25lerror\n",
      "  Complete output from command /root/anaconda3/bin/python -u -c \"import setuptools, tokenize;__file__='/tmp/pip-install-oa76ehg7/pycocotools/PythonAPI/setup.py';f=getattr(tokenize, 'open', open)(__file__);code=f.read().replace('\\r\\n', '\\n');f.close();exec(compile(code, __file__, 'exec'))\" bdist_wheel -d /tmp/pip-wheel-cj3aapn4 --python-tag cp37:\n",
      "  running bdist_wheel\n",
      "  running build\n",
      "  running build_py\n",
      "  creating build\n",
      "  creating build/lib.linux-x86_64-3.7\n",
      "  creating build/lib.linux-x86_64-3.7/pycocotools\n",
      "  copying pycocotools/cocoeval.py -> build/lib.linux-x86_64-3.7/pycocotools\n",
      "  copying pycocotools/mask.py -> build/lib.linux-x86_64-3.7/pycocotools\n",
      "  copying pycocotools/__init__.py -> build/lib.linux-x86_64-3.7/pycocotools\n",
      "  copying pycocotools/coco.py -> build/lib.linux-x86_64-3.7/pycocotools\n",
      "  running build_ext\n",
      "  building 'pycocotools._mask' extension\n",
      "  creating build/temp.linux-x86_64-3.7\n",
      "  creating build/temp.linux-x86_64-3.7/pycocotools\n",
      "  creating build/common\n",
      "  gcc -pthread -B /root/anaconda3/compiler_compat -Wl,--sysroot=/ -Wsign-compare -DNDEBUG -g -fwrapv -O3 -Wall -Wstrict-prototypes -fPIC -I/root/anaconda3/lib/python3.7/site-packages/numpy/core/include -I../common -I/root/anaconda3/include/python3.7m -c pycocotools/_mask.c -o build/temp.linux-x86_64-3.7/pycocotools/_mask.o\n",
      "  unable to execute 'gcc': No such file or directory\n",
      "  error: command 'gcc' failed with exit status 1\n",
      "  \n",
      "  ----------------------------------------\n",
      "\u001b[31m  Failed building wheel for pycocotools\u001b[0m\n",
      "\u001b[?25h  Running setup.py clean for pycocotools\n",
      "  Complete output from command /root/anaconda3/bin/python -u -c \"import setuptools, tokenize;__file__='/tmp/pip-install-oa76ehg7/pycocotools/PythonAPI/setup.py';f=getattr(tokenize, 'open', open)(__file__);code=f.read().replace('\\r\\n', '\\n');f.close();exec(compile(code, __file__, 'exec'))\" clean --all:\n",
      "  Traceback (most recent call last):\n",
      "    File \"<string>\", line 1, in <module>\n",
      "    File \"/tmp/pip-install-oa76ehg7/pycocotools/PythonAPI/setup.py\", line 25, in <module>\n",
      "      cythonize(ext_modules)\n",
      "    File \"/root/anaconda3/lib/python3.7/site-packages/Cython/Build/Dependencies.py\", line 967, in cythonize\n",
      "      aliases=aliases)\n",
      "    File \"/root/anaconda3/lib/python3.7/site-packages/Cython/Build/Dependencies.py\", line 812, in create_extension_list\n",
      "      for file in nonempty(sorted(extended_iglob(filepattern)), \"'%s' doesn't match any files\" % filepattern):\n",
      "    File \"/root/anaconda3/lib/python3.7/site-packages/Cython/Build/Dependencies.py\", line 111, in nonempty\n",
      "      raise ValueError(error_msg)\n",
      "  ValueError: 'pycocotools/_mask.pyx' doesn't match any files\n",
      "  \n",
      "  ----------------------------------------\n",
      "\u001b[31m  Failed cleaning build dir for pycocotools\u001b[0m\n",
      "Failed to build pycocotools\n",
      "Installing collected packages: pycocotools\n",
      "  Running setup.py install for pycocotools ... \u001b[?25lerror\n",
      "    Complete output from command /root/anaconda3/bin/python -u -c \"import setuptools, tokenize;__file__='/tmp/pip-install-oa76ehg7/pycocotools/PythonAPI/setup.py';f=getattr(tokenize, 'open', open)(__file__);code=f.read().replace('\\r\\n', '\\n');f.close();exec(compile(code, __file__, 'exec'))\" install --record /tmp/pip-record-bnieaep_/install-record.txt --single-version-externally-managed --compile:\n",
      "    running install\n",
      "    running build\n",
      "    running build_py\n",
      "    running build_ext\n",
      "    building 'pycocotools._mask' extension\n",
      "    gcc -pthread -B /root/anaconda3/compiler_compat -Wl,--sysroot=/ -Wsign-compare -DNDEBUG -g -fwrapv -O3 -Wall -Wstrict-prototypes -fPIC -I/root/anaconda3/lib/python3.7/site-packages/numpy/core/include -I../common -I/root/anaconda3/include/python3.7m -c pycocotools/_mask.c -o build/temp.linux-x86_64-3.7/pycocotools/_mask.o\n",
      "    unable to execute 'gcc': No such file or directory\n",
      "    error: command 'gcc' failed with exit status 1\n",
      "    \n",
      "    ----------------------------------------\n",
      "\u001b[31mCommand \"/root/anaconda3/bin/python -u -c \"import setuptools, tokenize;__file__='/tmp/pip-install-oa76ehg7/pycocotools/PythonAPI/setup.py';f=getattr(tokenize, 'open', open)(__file__);code=f.read().replace('\\r\\n', '\\n');f.close();exec(compile(code, __file__, 'exec'))\" install --record /tmp/pip-record-bnieaep_/install-record.txt --single-version-externally-managed --compile\" failed with error code 1 in /tmp/pip-install-oa76ehg7/pycocotools/PythonAPI\u001b[0m\n",
      "\u001b[?25h"
     ]
    }
   ],
   "source": [
    "!pip install -U scikit-image\n",
    "!pip install -U cython \n",
    "!pip install \"git+https://github.com/philferriere/cocoapi.git#egg=pycocotools&subdirectory=PythonAPI\""
   ]
  },
  {
   "cell_type": "code",
   "execution_count": 4,
   "metadata": {},
   "outputs": [
    {
     "name": "stdout",
     "output_type": "stream",
     "text": [
      "/u01/notebooks/TFM/DatasetCreator\n"
     ]
    }
   ],
   "source": [
    "cd DatasetCreator"
   ]
  },
  {
   "cell_type": "code",
   "execution_count": 15,
   "metadata": {},
   "outputs": [
    {
     "name": "stdout",
     "output_type": "stream",
     "text": [
      "/u01/notebooks/TFM/Configs\n"
     ]
    }
   ],
   "source": [
    "cd /u01/notebooks/TFM/Configs/"
   ]
  },
  {
   "cell_type": "code",
   "execution_count": null,
   "metadata": {},
   "outputs": [],
   "source": []
  }
 ],
 "metadata": {
  "kernelspec": {
   "display_name": "Python 3",
   "language": "python",
   "name": "python3"
  },
  "language_info": {
   "codemirror_mode": {
    "name": "ipython",
    "version": 3
   },
   "file_extension": ".py",
   "mimetype": "text/x-python",
   "name": "python",
   "nbconvert_exporter": "python",
   "pygments_lexer": "ipython3",
   "version": "3.7.1"
  }
 },
 "nbformat": 4,
 "nbformat_minor": 2
}
